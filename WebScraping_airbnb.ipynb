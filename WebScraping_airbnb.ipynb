{
 "cells": [
  {
   "cell_type": "code",
   "execution_count": 1,
   "metadata": {},
   "outputs": [],
   "source": [
    "from selenium import webdriver\n",
    "import pandas as pd\n",
    "import numpy as np"
   ]
  },
  {
   "cell_type": "code",
   "execution_count": 20,
   "metadata": {},
   "outputs": [],
   "source": [
    "#Se usa Chromedriver (el ejecutable para acceder a Chrome). Selenium se usa para automatizar la busqueda en la pagina de airbnb (la ciudad que uno desee revisar). \n",
    "browser = webdriver.Chrome(\"/Users/....../...../..../chromedriver\")\n",
    "browser.get(\"https://www.airbnb.com.co/s/Orlando--Florida--Estados-Unidos/homes?tab_id=home_tab&refinement_paths%5B%5D=%2Fhomes&flexible_trip_dates%5B%5D=april&flexible_trip_dates%5B%5D=march&flexible_trip_lengths%5B%5D=weekend_trip&date_picker_type=calendar&place_id=ChIJd7zN_thz54gRnr-lPAaywwo&query=Orlando%2C%20Florida%2C%20Estados%20Unidos&source=search_blocks_selector_p1_flow&search_type=search_query\")\n"
   ]
  },
  {
   "cell_type": "code",
   "execution_count": 21,
   "metadata": {},
   "outputs": [
    {
     "data": {
      "text/plain": [
       "\"Más de 300 alojamientos\\nEstadías en Orlando\\nfiltros\\nFlexibilidad de cancelación\\nTipo de alojamiento\\nPrecio\\nReservación inmediata\\nMás filtros\\nAntes de reservar, revisa las restricciones de viaje relacionadas con el coronavirus.Más información\\nConjunto residencial entero en Kissimmee\\nPatsy's Runaway Beach Condo\\n6 huéspedes · 2 habitaciones · 3 camas · 2 baños\\nPiscina · Wifi\\n$289,593 COP\\n/ noche\\n$289,593 COP por noche\\nSUPERANFITRIÓN\\nHabitación privada en Kissimmee\\n5✯Tranquil ,relax in Jet Tub,LG Suite W/ King bed,\\n2 huéspedes · 1 habitación · 1 cama · 1 baño privado\\nPiscina · Wifi · Estacionamiento gratuito\\n5,0\\n (51 reseñas)\\n$35,752 COP\\n/ noche\\n$35,752 COP por noche\\nConjunto residencial entero en Orlando\\nPeaceful, full-featured condo near airport & parks\\n4 huéspedes · 2 habitaciones · 3 camas · 2 baños\\nPiscina · Wifi · Estacionamiento gratuito\\n4,75\\n (4 reseñas)\\n$125,133 COP\\n/ noche\\n$125,133 COP por noche\\nHabitación compartida en Kissimmee\\nKissimmee Hostel Bunk Bed\\n1 huésped · 1 habitación · 1 cama · 1 baño compartido\\nPiscina · Wifi · Estacionamiento gratuito\\n$62,924 COP\\n/ noche\\n$62,924 COP por noche\\nHabitación compartida en Orlando\\nSHARED ROOM AVAILABLE - DOWNTOWN\\n1 huésped · 1 habitación · 1 cama · 1 baño compartido\\nWifi · Estacionamiento gratuito\\n$39,327 COP\\n/ noche\\n$39,327 COP por noche\\nHabitación privada en Orlando\\nRichy Room\\n1 huésped · 1 habitación · 1 cama · 1,5 baños compartidos\\nWifi · Estacionamiento gratuito\\n$60,779 COP\\n/ noche\\n$60,779 COP por noche\\nSUPERANFITRIÓN\\nHabitación privada en Orlando\\nBlack & White 2\\n3 huéspedes · 1 habitación · 3 camas · 1 baño compartido\\nWifi · Estacionamiento gratuito\\n4,83\\n (106 reseñas)\\n$89,380 COP\\n/ noche\\n$89,380 COP por noche\\nConjunto residencial entero en Kissimmee\\nSunny, Clean and Cozy Disney Condo\\n8 huéspedes · 2 habitaciones · 4 camas · 2 baños\\nPiscina · Jacuzzi · Wifi · Estacionamiento gratuito\\n4,62\\n (87 reseñas)\\n$128,708 COP\\n/ noche\\n$128,708 COP por noche\\nHabitación privada en Orlando\\nHarry Potter Room\\n2 huéspedes · 1 habitación · 1 baño compartido\\nWifi · Estacionamiento gratuito\\n$100,499 COP\\n/ noche\\n$100,499 COP por noche\\nSUPERANFITRIÓN\\nHabitación privada en Saint Cloud\\n30 miles from Disney. 40 miles to Melbourne beach\\n1 huésped · Estudio · 1 cama · 1 baño compartido\\nEstacionamiento gratuito\\n4,79\\n (43 reseñas)\\n$70,468 COP\\n/ noche\\n$70,468 COP por noche\\nHabitación privada en Orlando\\nEasy going simple Stay\\n1 huésped · 1 habitación · 1 cama · 1 baño compartido\\nWifi · Estacionamiento gratuito\\n$67,929 COP\\n/ noche\\n$67,929 COP por noche\\nHabitación de hotel en Orlando\\nBlue Mermaid Suite 03/2 Queen Beds Suite + Parking\\n4 huéspedes · Estudio · 2 camas · 1 baño privado\\nPiscina · Wifi · Estacionamiento gratuito\\n5,0\\n (9 reseñas)\\n$197,137 COP\\n/ noche\\n$197,137 COP por noche\\nHabitación privada en Orlando\\nClean, Quiet & Comfy Space 15 Mins from Airport\\n1 huésped · 1 habitación · 1 cama · 1 baño compartido\\nWifi · Estacionamiento gratuito\\n4,70\\n (70 reseñas)\\n$117,982 COP\\n/ noche\\n$117,982 COP por noche\\nHabitación privada en Orlando\\nGreat Place in Orlando #3\\n2 huéspedes · 1 habitación · 1 cama · 1 baño compartido\\nPiscina · Wifi · Estacionamiento gratuito\\n4,82\\n (62 reseñas)\\n$82,230 COP\\n/ noche\\n$82,230 COP por noche\\nConjunto residencial entero en Orlando\\nOrlando apartment, Great Location\\n4 huéspedes · 2 habitaciones · 3 camas · 2 baños\\nPiscina · Jacuzzi · Estacionamiento gratuito\\n4,06\\n (94 reseñas)\\n$196,637 COP\\n/ noche\\n$196,637 COP por noche\\nSUPERANFITRIÓN\\nHabitación privada en Orlando\\n7min from Universal Studios/20min from Disney\\n6 huéspedes · 1 habitación · 2 camas · 1 baño privado\\nWifi\\n4,71\\n (41 reseñas)\\n$108,293 COP\\n/ noche\\n$108,293 COP por noche\\nSUPERANFITRIÓN\\nSuite de invitados entera en Orlando\\nJaime and Angela’s Private Suite\\n2 huéspedes · 1 habitación · 1 cama · 1 baño\\nWifi\\n4,84\\n (276 reseñas)\\n$142,508 COP\\n/ noche\\n$142,508 COP por noche\\nHabitación privada en Davenport\\nPeaceful and Quiet Pool Home Close to Disney\\n1 huésped · 1 habitación · 1 cama · 1 baño compartido\\nPiscina · Wifi · Estacionamiento gratuito\\n$62,102 COP\\n/ noche\\n$62,102 COP por noche\\nSUPERANFITRIÓN\\nHabitación privada en Orlando\\nNicole's Room\\n1 huésped · 1 habitación · 1 cama · 1 baño compartido\\nPiscina · Wifi · Estacionamiento gratuito\\n4,92\\n (331 reseñas)\\n$135,858 COP\\n/ noche\\n$135,858 COP por noche\\nHabitación privada en Orlando\\nQuaint cozy home- Private Master bedroom\\n2 huéspedes · 1 habitación · 1 cama\\nWifi\\n4,0\\n (6 reseñas)\\n$93,992 COP\\n/ noche\\n$93,992 COP por noche\\n1\\n2\\n3\\n4\\n5\\n…\\n15\\n1 – 20 de Más de 300 lugares para hospedarte\\nIngresa las fechas para ver el precio total. Pueden aplicarse tarifas adicionales. Es posible que se agreguen impuestos.\\n$289.593  COP\\n$35.752  COP\\n$125.133  COP\\n$62.924  COP\\n$39.327  COP\\n$60.779  COP\\n$89.380  COP\\n$128.708  COP\\n$100.499  COP\\n$70.468  COP\\n$67.929  COP\\n$197.137  COP\\n$117.982  COP\\n$82.230  COP\\n$196.637  COP\\n$108.293  COP\\n$142.508  COP\\n$62.102  COP\\n$135.858  COP\\n$93.992  COP\\nDatos de mapas ©2021 Google\\nTérminos de uso\\nNotificar un problema de Maps\\nBuscar mientras me desplazo en el mapa\""
      ]
     },
     "execution_count": 21,
     "metadata": {},
     "output_type": "execute_result"
    }
   ],
   "source": [
    "#por medio de una funcion de browser se encuentran elementos en el script HTML de la pagina que contienen la información de interes. \n",
    "title = browser.find_elements_by_xpath(\"//div[@class='_e296pg']\")\n",
    "title=[i.text for i in title]\n",
    "title[0]"
   ]
  },
  {
   "cell_type": "code",
   "execution_count": 22,
   "metadata": {},
   "outputs": [
    {
     "data": {
      "text/plain": [
       "['$289,593 COP',\n",
       " '$35,752 COP',\n",
       " '$125,133 COP',\n",
       " '$62,924 COP',\n",
       " '$39,327 COP',\n",
       " '$60,779 COP',\n",
       " '$89,380 COP',\n",
       " '$128,708 COP',\n",
       " '$100,499 COP',\n",
       " '$70,468 COP',\n",
       " '$67,929 COP',\n",
       " '$197,137 COP',\n",
       " '$117,982 COP',\n",
       " '$82,230 COP',\n",
       " '$196,637 COP',\n",
       " '$108,293 COP',\n",
       " '$142,508 COP',\n",
       " '$62,102 COP',\n",
       " '$135,858 COP',\n",
       " '$93,992 COP']"
      ]
     },
     "execution_count": 22,
     "metadata": {},
     "output_type": "execute_result"
    }
   ],
   "source": [
    "#Se extrae la informacion del precio para cada caso. \n",
    "price = browser.find_elements_by_xpath(\"//span[@class='_olc9rf0']\")\n",
    "price=[i.text for i in price]\n",
    "price\n"
   ]
  },
  {
   "cell_type": "code",
   "execution_count": 27,
   "metadata": {},
   "outputs": [
    {
     "data": {
      "text/plain": [
       "['Conjunto residencial entero · Kissimmee',\n",
       " 'Habitación privada · Kissimmee',\n",
       " 'Conjunto residencial entero · Orlando',\n",
       " 'Habitación compartida · Kissimmee',\n",
       " 'Habitación compartida · Orlando',\n",
       " 'Habitación privada · Orlando',\n",
       " 'Habitación privada · Orlando',\n",
       " 'Conjunto residencial entero · Kissimmee',\n",
       " 'Habitación privada · Orlando',\n",
       " 'Habitación privada · Saint Cloud',\n",
       " 'Habitación privada · Orlando',\n",
       " 'Habitación de hotel · Orlando',\n",
       " 'Habitación privada · Orlando',\n",
       " 'Habitación privada · Orlando',\n",
       " 'Conjunto residencial entero · Orlando',\n",
       " 'Habitación privada · Orlando',\n",
       " 'Suite de invitados entera · Orlando',\n",
       " 'Habitación privada · Davenport',\n",
       " 'Habitación privada · Orlando',\n",
       " 'Habitación privada · Orlando']"
      ]
     },
     "execution_count": 27,
     "metadata": {},
     "output_type": "execute_result"
    }
   ],
   "source": [
    "#Informacion respectiva al inmmueble en arrendamiento.\n",
    "\n",
    "info = browser.find_elements_by_xpath(\"//div[@class='_1dmgzapx']\")\n",
    "info=[i.text for i in info]\n",
    "info\n",
    "\n"
   ]
  },
  {
   "cell_type": "code",
   "execution_count": null,
   "metadata": {},
   "outputs": [],
   "source": [
    "# Hasta este punto solo se tiene la informacion de una de las otras posibles paginas de interes. Para leer las siguientes paginas se automatizara el proceso para lectura de varias paginas en caso de que las haya. "
   ]
  }
 ],
 "metadata": {
  "kernelspec": {
   "display_name": "Python 3",
   "language": "python",
   "name": "python3"
  },
  "language_info": {
   "codemirror_mode": {
    "name": "ipython",
    "version": 3
   },
   "file_extension": ".py",
   "mimetype": "text/x-python",
   "name": "python",
   "nbconvert_exporter": "python",
   "pygments_lexer": "ipython3",
   "version": "3.8.5"
  }
 },
 "nbformat": 4,
 "nbformat_minor": 4
}
